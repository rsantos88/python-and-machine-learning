{
 "cells": [
  {
   "cell_type": "markdown",
   "metadata": {},
   "source": [
    "# Tutorial Python\n",
    "\n",
    "## Imprimiendo diferentes elementos:"
   ]
  },
  {
   "cell_type": "code",
   "execution_count": 6,
   "metadata": {},
   "outputs": [
    {
     "name": "stdout",
     "output_type": "stream",
     "text": [
      "El alumno  Raul  tiene una edad de  31  años\n",
      "El alumno Raul tiene una edad de 31 años\n",
      "El alumno Raul tiene una edad de 31 años\n"
     ]
    }
   ],
   "source": [
    "nombre = \"Raul\"\n",
    "edad = 31\n",
    "\n",
    "# imprimiedo 2 elementos \n",
    "print(\"El alumno \",nombre,\" tiene una edad de \",edad,\" años\")\n",
    "# estilo C++\n",
    "print(\"El alumno {} tiene una edad de {} años\".format(nombre, edad))\n",
    "# otra forma\n",
    "print(\"El alumno {v1} tiene una edad de {v2} años\".format(v1=nombre,v2=edad))"
   ]
  },
  {
   "cell_type": "markdown",
   "metadata": {},
   "source": [
    "## Cademas de caracteres:"
   ]
  },
  {
   "cell_type": "code",
   "execution_count": 4,
   "metadata": {},
   "outputs": [
    {
     "name": "stdout",
     "output_type": "stream",
     "text": [
      "v\n",
      "a\n",
      "ove\n"
     ]
    }
   ],
   "source": [
    "cadena = \"oveja\"\n",
    "# imprime el caracter\n",
    "print(cadena[1])\n",
    "# imprime la última posición (n)\n",
    "print(cadena[-1])\n",
    "# imprime la lista de caracteres indicados (de 0 a n-1)\n",
    "print(cadena[0:3])\n"
   ]
  },
  {
   "cell_type": "code",
   "execution_count": 13,
   "metadata": {},
   "outputs": [
    {
     "name": "stdout",
     "output_type": "stream",
     "text": [
      "El numero de palabras que contiene la frase es:  12\n"
     ]
    }
   ],
   "source": [
    "frase = \"Hola, me llamo Raúl y estoy realizando un curso básico de Python\"\n",
    "palabras = frase.split() # crea una lista de strings con las palabras de la variable \"frase\"\n",
    "print(\"El numero de palabras que contiene la frase es: \", len(palabras))\n"
   ]
  },
  {
   "cell_type": "markdown",
   "metadata": {},
   "source": [
    "## Listas"
   ]
  },
  {
   "cell_type": "code",
   "execution_count": 2,
   "metadata": {},
   "outputs": [
    {
     "name": "stdout",
     "output_type": "stream",
     "text": [
      "[0, 1, 2, 3, 4, 5, ['j', 'e', 'j', 'e']]\n",
      "[1, 2, 3, ['a', 'b', 'c']]\n",
      "Elemento dentro de otra lista: c\n"
     ]
    }
   ],
   "source": [
    "lista_numeros = [0,1,2,3,4,5]\n",
    "lista_caracteres = ['j','e','j','e']\n",
    "lista_numeros.append(lista_caracteres)\n",
    "print(lista_numeros)\n",
    "\n",
    "# Lista que incluye otra lista\n",
    "lista = [1,2,3,['a','b','c']]\n",
    "print(lista)\n",
    "# para imprimir c..\n",
    "print('Elemento dentro de otra lista:',lista[3][2])\n"
   ]
  },
  {
   "cell_type": "markdown",
   "metadata": {},
   "source": [
    "## Diccionarios "
   ]
  },
  {
   "cell_type": "code",
   "execution_count": 31,
   "metadata": {},
   "outputs": [
    {
     "name": "stdout",
     "output_type": "stream",
     "text": [
      "Raul 32\n"
     ]
    }
   ],
   "source": [
    "diccionario = {'nombre': 'Raul', 'Edad': 32}\n",
    "print(diccionario['nombre'], diccionario['Edad'])"
   ]
  },
  {
   "cell_type": "markdown",
   "metadata": {},
   "source": [
    "## Tupla:"
   ]
  },
  {
   "cell_type": "code",
   "execution_count": 35,
   "metadata": {},
   "outputs": [
    {
     "name": "stdout",
     "output_type": "stream",
     "text": [
      "2\n"
     ]
    }
   ],
   "source": [
    "# conjunto de variables inalterables. Se utiliza cuando queremos que el usuario no pueda alterar su contenido\n",
    "tupla = (1,2,3,4)\n",
    "print(tupla[1])\n",
    "# no podemos modificarlo\n",
    "# tupla[1] = 3 nos devuelve error"
   ]
  },
  {
   "cell_type": "markdown",
   "metadata": {},
   "source": [
    "## Conjuntos:"
   ]
  },
  {
   "cell_type": "code",
   "execution_count": 38,
   "metadata": {},
   "outputs": [
    {
     "name": "stdout",
     "output_type": "stream",
     "text": [
      "{1, 2, 3, 4, 5, 6}\n"
     ]
    }
   ],
   "source": [
    "# Colección de elementos únicos que van entre llaves\n",
    "conjunto_1 = {1,2,3,4}\n",
    "conjunto_2 = {1,2,2,3,4,5,5,6} # solo deja que haya elementos únicos\n",
    "print(conjunto_2)\n",
    "\n",
    "# Crear un conjunto a partir de una lista\n",
    "lista = [1,2,3,4,5,5,5,6,7,8,8,9,10,10]\n",
    "conjunto = set(lista) # elimina los duplicados porque el conjunto son elementos únicos"
   ]
  },
  {
   "cell_type": "markdown",
   "metadata": {},
   "source": [
    "## Tipos de datos:"
   ]
  },
  {
   "cell_type": "code",
   "execution_count": null,
   "metadata": {},
   "outputs": [],
   "source": [
    "print(type(5),type(5.5),type([1,2]), type(int))"
   ]
  },
  {
   "cell_type": "markdown",
   "metadata": {},
   "source": [
    "## Estructuras de control:\n",
    "\n",
    "### if/else"
   ]
  },
  {
   "cell_type": "code",
   "execution_count": 8,
   "metadata": {},
   "outputs": [
    {
     "name": "stdout",
     "output_type": "stream",
     "text": [
      "Escribe un número: 4\n",
      "- Tu numero es más pequeño que 5\n",
      "- Tu numero es par y mayor que 2\n",
      "- Tu numero es par o mayor que 2\n"
     ]
    }
   ],
   "source": [
    "num = int(input(\"Escribe un número: \"))\n",
    "if num>5:\n",
    "    print(\"- Tu numero (\",num,\") es mayor que 5\")\n",
    "elif num is 5:\n",
    "    print(\"- Tu numero es 5\")\n",
    "else:\n",
    "    print(\"- Tu numero es más pequeño que 5\")\n",
    "if num%2 is 0 and num>2:\n",
    "    print(\"- Tu numero es par y mayor que 2\")\n",
    "if num%2 is 0 or num>2:\n",
    "    print(\"- Tu numero es par o mayor que 2\")\n"
   ]
  },
  {
   "cell_type": "markdown",
   "metadata": {},
   "source": [
    "### while"
   ]
  },
  {
   "cell_type": "code",
   "execution_count": null,
   "metadata": {},
   "outputs": [],
   "source": [
    "pin = str(input(\"Escribe tu numero pin: \"))\n",
    "psw = \"2367\"\n",
    "while pin!=psw:\n",
    "    print(\"PIN incorrecto\")\n",
    "    if len(pin) != 4:\n",
    "        print(\"Tu PIN tiene que ser de 4 cifras\")    \n",
    "    pin = str(input(\"Vuelva a intentarlo: \"))\n",
    "print(\"PIN correcto!\")"
   ]
  },
  {
   "cell_type": "markdown",
   "metadata": {},
   "source": [
    "### range"
   ]
  },
  {
   "cell_type": "code",
   "execution_count": 1,
   "metadata": {},
   "outputs": [
    {
     "name": "stdout",
     "output_type": "stream",
     "text": [
      "[1, 2, 3, 4, 5, 6]\n"
     ]
    }
   ],
   "source": [
    "# se trata de un generador de números\n",
    "lista = list(range(1,7)) # genera una lista con valores que irán de 1 a 6 (n-1)\n",
    "print(lista)"
   ]
  },
  {
   "cell_type": "markdown",
   "metadata": {},
   "source": [
    "### for"
   ]
  },
  {
   "cell_type": "code",
   "execution_count": 6,
   "metadata": {},
   "outputs": [
    {
     "name": "stdout",
     "output_type": "stream",
     "text": [
      "1 2 3 4 5 6 "
     ]
    }
   ],
   "source": [
    "for x in range(1,7): # por cada valor de x en el rango de 1 a 6 (n-1) ejecuta la operación\n",
    "    print(x,\"\",end=\"\")"
   ]
  },
  {
   "cell_type": "code",
   "execution_count": 8,
   "metadata": {},
   "outputs": [
    {
     "name": "stdout",
     "output_type": "stream",
     "text": [
      "10 9 8 7 6 5 4 3 2 1 "
     ]
    }
   ],
   "source": [
    "for var in range(10,0,-1): # cuenta regresiva\n",
    "    print(var,\"\",end=\"\")"
   ]
  },
  {
   "cell_type": "code",
   "execution_count": 11,
   "metadata": {},
   "outputs": [
    {
     "name": "stdout",
     "output_type": "stream",
     "text": [
      "0 2 4 6 8 "
     ]
    }
   ],
   "source": [
    "for var in range(0,10,2): # cuenta positiva de 2 en 2\n",
    "    print(var,\"\",end=\"\")"
   ]
  },
  {
   "cell_type": "code",
   "execution_count": 15,
   "metadata": {},
   "outputs": [
    {
     "name": "stdout",
     "output_type": "stream",
     "text": [
      "uno dos tres "
     ]
    }
   ],
   "source": [
    "for nombre in [\"uno\", \"dos\", \"tres\"]: # array\n",
    "    print(nombre,\"\",end=\"\")"
   ]
  },
  {
   "cell_type": "code",
   "execution_count": 21,
   "metadata": {},
   "outputs": [
    {
     "name": "stdout",
     "output_type": "stream",
     "text": [
      "raul"
     ]
    }
   ],
   "source": [
    "for nombre in \"raul\": #string\n",
    "    print(nombre,end=\"\")"
   ]
  },
  {
   "cell_type": "code",
   "execution_count": 23,
   "metadata": {},
   "outputs": [
    {
     "name": "stdout",
     "output_type": "stream",
     "text": [
      "1 4 5 3 9 "
     ]
    }
   ],
   "source": [
    "lista = [1,4,5,3,9] #lista\n",
    "for n in lista:\n",
    "    print(n,\"\",end=\"\");    "
   ]
  },
  {
   "cell_type": "code",
   "execution_count": 29,
   "metadata": {},
   "outputs": [
    {
     "name": "stdout",
     "output_type": "stream",
     "text": [
      "[1, 2, 3]\n",
      "[4, 5, 6]\n",
      "[7, 8, 9]\n"
     ]
    },
    {
     "data": {
      "text/plain": [
       "3"
      ]
     },
     "execution_count": 29,
     "metadata": {},
     "output_type": "execute_result"
    }
   ],
   "source": [
    "tabla = [[1,2,3],[4,5,6],[7,8,9]]\n",
    "for f in tabla:    \n",
    "    print(f)        "
   ]
  },
  {
   "cell_type": "code",
   "execution_count": 14,
   "metadata": {},
   "outputs": [
    {
     "name": "stdout",
     "output_type": "stream",
     "text": [
      "[2, 4, 6, 8, 10] "
     ]
    }
   ],
   "source": [
    "# listas con for\n",
    "lista = list(range(1,6))\n",
    "lista2 = []\n",
    "for x in lista:\n",
    "    lista2.append(x*2)\n",
    "    \n",
    "print(lista2, end=\" \")"
   ]
  },
  {
   "cell_type": "markdown",
   "metadata": {},
   "source": [
    "## Funciones: "
   ]
  },
  {
   "cell_type": "code",
   "execution_count": 17,
   "metadata": {},
   "outputs": [
    {
     "name": "stdout",
     "output_type": "stream",
     "text": [
      "hola Raúl\n"
     ]
    }
   ],
   "source": [
    "def saludo(nombre):\n",
    "    print(\"hola\", nombre)\n",
    "\n",
    "saludo(\"Raúl\")"
   ]
  },
  {
   "cell_type": "code",
   "execution_count": 22,
   "metadata": {},
   "outputs": [
    {
     "name": "stdout",
     "output_type": "stream",
     "text": [
      "10\n",
      "4\n"
     ]
    }
   ],
   "source": [
    "\"\"\"\n",
    "Funcion sumar\n",
    "\"\"\"\n",
    "def sumar(x,y):\n",
    "    return x+y\n",
    "\n",
    "\"\"\"\n",
    "Función al cuadrado\n",
    "\"\"\"\n",
    "def cuadrado(num):\n",
    "    return num*num\n",
    "\n",
    "print( sumar(5,5) )\n",
    "print( cuadrado(2) )"
   ]
  },
  {
   "cell_type": "code",
   "execution_count": 30,
   "metadata": {},
   "outputs": [
    {
     "name": "stdout",
     "output_type": "stream",
     "text": [
      "[1, 2, 3, 4, 5] cuadrado -> [1, 4, 9, 16, 25]\n"
     ]
    }
   ],
   "source": [
    "\"\"\"\n",
    "Función MAP\n",
    "\"\"\"\n",
    "lista1 = list(range(1,6))\n",
    "lista2 = list(map(cuadrado, lista1)) # aplica la función cuadrado sobre los elementos de la lista\n",
    "print(lista1,\"cuadrado ->\",lista2)"
   ]
  },
  {
   "cell_type": "code",
   "execution_count": 4,
   "metadata": {},
   "outputs": [
    {
     "name": "stdout",
     "output_type": "stream",
     "text": [
      "[1, 8, 27, 64, 125]\n"
     ]
    }
   ],
   "source": [
    "\"\"\"\n",
    "Función LAMBDA\n",
    "\"\"\"\n",
    "lista = list(range(1,6))\n",
    "# num es la variable de entrada seguido de ':' y de la operación que realizaremos con la variable\n",
    "lista_resultante = list(map(lambda num: num*num*num, lista))\n",
    "print(lista_resultante)"
   ]
  },
  {
   "cell_type": "code",
   "execution_count": 17,
   "metadata": {},
   "outputs": [
    {
     "name": "stdout",
     "output_type": "stream",
     "text": [
      "None\n",
      "4\n",
      "None\n",
      "8\n",
      "funcion pares:  [-10, -8, -6, -4, -2, 2, 4, 6, 8, 10]\n",
      "funcion positivos:  [1, 2, 3, 4, 5, 6, 7, 8, 9, 10]\n",
      "pares lambda:  [-10, -8, -6, -4, -2, 0, 2, 4, 6, 8, 10]\n",
      "positivos lambda:  [1, 2, 3, 4, 5, 6, 7, 8, 9, 10]\n"
     ]
    }
   ],
   "source": [
    "\"\"\"\n",
    "Función FILTER\n",
    "\"\"\"\n",
    "def pares(num):\n",
    "    if(num%2 == 0):\n",
    "        return num\n",
    "\n",
    "# lo probamos\n",
    "print(pares(7))\n",
    "print(pares(4))\n",
    "\n",
    "def positivo(num):\n",
    "    if(num>0):\n",
    "        return num\n",
    "\n",
    "# lo probamos\n",
    "print(positivo(-2))\n",
    "print(positivo(8))\n",
    "\n",
    "lista = list(range(-10,11))\n",
    "lista_pares = list(filter(pares, lista)) # filter aplica la función para los elementos de la lista\n",
    "lista_positivos = list(filter(positivo, lista))\n",
    "\n",
    "print(\"funcion pares: \",lista_pares)\n",
    "print(\"funcion positivos: \",lista_positivos)\n",
    "\n",
    "lista_pares_lambda = list(filter(lambda num: num%2 == 0, lista)) # se sustituye la función pares por una lambda equivatente\n",
    "lista_positivos_lambda = list(filter(lambda positivo: positivo>0, lista))\n",
    "print(\"pares lambda: \",lista_pares_lambda)\n",
    "print(\"positivos lambda: \", lista_positivos_lambda)"
   ]
  }
 ],
 "metadata": {
  "kernelspec": {
   "display_name": "Python 3",
   "language": "python",
   "name": "python3"
  },
  "language_info": {
   "codemirror_mode": {
    "name": "ipython",
    "version": 3
   },
   "file_extension": ".py",
   "mimetype": "text/x-python",
   "name": "python",
   "nbconvert_exporter": "python",
   "pygments_lexer": "ipython3",
   "version": "3.7.6"
  }
 },
 "nbformat": 4,
 "nbformat_minor": 2
}
