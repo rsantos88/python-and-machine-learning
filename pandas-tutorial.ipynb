{
 "cells": [
  {
   "cell_type": "markdown",
   "metadata": {},
   "source": [
    "# Pandas\n",
    "\n",
    "Libreria de código abierto y extensión de NumPy para manipulación a análisis de datos en Python.\n",
    "Permite de forma rápida la limpieza, preparación y análisis de los datos."
   ]
  },
  {
   "cell_type": "markdown",
   "metadata": {},
   "source": [
    "## Instalación en Jupyter\n",
    "\n",
    "* Con anaconda:\n",
    "```bash\n",
    "conda install pandas\n",
    "```\n",
    "* Sin anaconda\n",
    "```bash\n",
    "pip install pandas\n",
    "```"
   ]
  },
  {
   "cell_type": "markdown",
   "metadata": {},
   "source": [
    "## Series"
   ]
  },
  {
   "cell_type": "code",
   "execution_count": 1,
   "metadata": {},
   "outputs": [],
   "source": [
    "import numpy as np # a partir de ahora utilizaremos np (seudonimo) en vez de numpy \n",
    "import pandas as pd"
   ]
  },
  {
   "cell_type": "code",
   "execution_count": 14,
   "metadata": {},
   "outputs": [
    {
     "name": "stdout",
     "output_type": "stream",
     "text": [
      "a    1\n",
      "b    2\n",
      "c    3\n",
      "dtype: int64\n",
      "0    1\n",
      "1    3\n",
      "2    5\n",
      "3    7\n",
      "4    9\n",
      "dtype: int64\n",
      "venta_1    1\n",
      "venta_2    4\n",
      "venta_3    7\n",
      "dtype: int64\n",
      "4\n",
      "venta_1     2\n",
      "venta_2     8\n",
      "venta_3    14\n",
      "dtype: int64\n"
     ]
    }
   ],
   "source": [
    "etiquetas = ['a','b','c']\n",
    "datos =[1,2,3]\n",
    "\n",
    "print(pd.Series(data=datos, index=etiquetas))\n",
    "\n",
    "# si creamos una serie de datos con arrange, el index es por defecto: 0,1,2,3,4...\n",
    "datos = np.arange(1,10,2)\n",
    "print(pd.Series(datos))\n",
    "\n",
    "# Para acceder a los datos\n",
    "data = np.arange(1,10,3)\n",
    "labels = ['venta_1','venta_2','venta_3']\n",
    "serie = pd.Series(data,labels)\n",
    "\n",
    "# imprimir serie \n",
    "print(serie)\n",
    "# accedemos a dato 1\n",
    "print(serie['venta_2'])\n",
    "\n",
    "# Podemos realizar operaciones sobre estas series. Por ejemplo, vamos a sumarlas:\n",
    "serie_suma = serie + serie\n",
    "print(serie_suma)\n",
    "\n"
   ]
  },
  {
   "cell_type": "markdown",
   "metadata": {},
   "source": [
    "## Dataframes:"
   ]
  },
  {
   "cell_type": "code",
   "execution_count": 47,
   "metadata": {},
   "outputs": [
    {
     "data": {
      "text/html": [
       "<div>\n",
       "<style scoped>\n",
       "    .dataframe tbody tr th:only-of-type {\n",
       "        vertical-align: middle;\n",
       "    }\n",
       "\n",
       "    .dataframe tbody tr th {\n",
       "        vertical-align: top;\n",
       "    }\n",
       "\n",
       "    .dataframe thead th {\n",
       "        text-align: right;\n",
       "    }\n",
       "</style>\n",
       "<table border=\"1\" class=\"dataframe\">\n",
       "  <thead>\n",
       "    <tr style=\"text-align: right;\">\n",
       "      <th></th>\n",
       "      <th>columna_1</th>\n",
       "      <th>columna_2</th>\n",
       "      <th>columna_3</th>\n",
       "    </tr>\n",
       "  </thead>\n",
       "  <tbody>\n",
       "    <tr>\n",
       "      <th>fila_1</th>\n",
       "      <td>3</td>\n",
       "      <td>3</td>\n",
       "      <td>8</td>\n",
       "    </tr>\n",
       "    <tr>\n",
       "      <th>fila_2</th>\n",
       "      <td>3</td>\n",
       "      <td>4</td>\n",
       "      <td>1</td>\n",
       "    </tr>\n",
       "    <tr>\n",
       "      <th>fila_3</th>\n",
       "      <td>4</td>\n",
       "      <td>1</td>\n",
       "      <td>1</td>\n",
       "    </tr>\n",
       "  </tbody>\n",
       "</table>\n",
       "</div>"
      ],
      "text/plain": [
       "        columna_1  columna_2  columna_3\n",
       "fila_1          3          3          8\n",
       "fila_2          3          4          1\n",
       "fila_3          4          1          1"
      ]
     },
     "execution_count": 47,
     "metadata": {},
     "output_type": "execute_result"
    }
   ],
   "source": [
    "import numpy as np\n",
    "import pandas as pd\n",
    "\n",
    "# Los dataframes nos permite crear tablas bonitas\n",
    "filas = ['fila_1', 'fila_2', 'fila_3']\n",
    "columnas = ['columna_1','columna_2','columna_3']\n",
    "datos = np.random.randint(1,10,9)\n",
    "matriz = datos.reshape(3,3) # convertimos el array en una matriz 3x3\n",
    "dataframe = pd.DataFrame(matriz, filas, columnas) # creamos la tabla\n",
    "dataframe"
   ]
  },
  {
   "cell_type": "markdown",
   "metadata": {},
   "source": [
    "### Dataframes: seleccionar datos de una tabla"
   ]
  },
  {
   "cell_type": "code",
   "execution_count": 49,
   "metadata": {},
   "outputs": [
    {
     "data": {
      "text/plain": [
       "(2, 3)"
      ]
     },
     "execution_count": 49,
     "metadata": {},
     "output_type": "execute_result"
    }
   ],
   "source": [
    "import numpy as np\n",
    "import pandas as pd\n",
    "\n",
    "# Los dataframes nos permite crear tablas bonitas\n",
    "filas = ['fila_1', 'fila_2', 'fila_3']\n",
    "columnas = ['columna_1','columna_2','columna_3']\n",
    "datos = np.random.randint(1,10,9)\n",
    "matriz = datos.reshape(3,3) # convertimos el array en una matriz 3x3\n",
    "dataframe = pd.DataFrame(matriz, filas, columnas) # creamos la tabla\n",
    "\n",
    "# Seleccionamos primera fila\n",
    "dataframe.loc['fila_1']\n",
    "\n",
    "# Si queremos seleecionar varias filas tendriamos que hacer una lista de valores\n",
    "dataframe.loc[['fila_1', 'fila_2']]\n",
    "\n",
    "# Si queremos seleccionar una columna\n",
    "dataframe['columna_1']\n",
    "\n",
    "# Si queremos selecionar un elemento de la table\n",
    "dataframe.loc['fila_1']['columna_1']\n",
    "\n",
    "# Añadimos una nueva columna con la suma de las otras 3\n",
    "dataframe['suma'] = dataframe['columna_1'] + dataframe['columna_2'] + dataframe['columna_3']\n",
    "\n",
    "# Eliminar una columna en su representación (aunque no la elimina del dataframe)\n",
    "dataframe.drop('suma', axis=1)\n",
    "# Eliminar una columna del dataframe\n",
    "dataframe.drop('suma', axis=1, inplace=True)\n",
    "\n",
    "# Eliminar una fila\n",
    "dataframe.drop('fila_3', inplace=True)\n",
    "\n",
    "# Conocer número de filas y columnas\n",
    "dataframe.shape"
   ]
  },
  {
   "cell_type": "markdown",
   "metadata": {},
   "source": [
    "### Dataframes: selección de datos por condición"
   ]
  },
  {
   "cell_type": "code",
   "execution_count": 2,
   "metadata": {},
   "outputs": [
    {
     "name": "stdout",
     "output_type": "stream",
     "text": [
      "          infectados  fallecidos  curados\n",
      "Madrid         20000        1000     1500\n",
      "Cataluña       15000         800     1300\n"
     ]
    },
    {
     "data": {
      "text/html": [
       "<div>\n",
       "<style scoped>\n",
       "    .dataframe tbody tr th:only-of-type {\n",
       "        vertical-align: middle;\n",
       "    }\n",
       "\n",
       "    .dataframe tbody tr th {\n",
       "        vertical-align: top;\n",
       "    }\n",
       "\n",
       "    .dataframe thead th {\n",
       "        text-align: right;\n",
       "    }\n",
       "</style>\n",
       "<table border=\"1\" class=\"dataframe\">\n",
       "  <thead>\n",
       "    <tr style=\"text-align: right;\">\n",
       "      <th></th>\n",
       "      <th>fallecidos</th>\n",
       "      <th>curados</th>\n",
       "    </tr>\n",
       "  </thead>\n",
       "  <tbody>\n",
       "    <tr>\n",
       "      <th>Madrid</th>\n",
       "      <td>1000</td>\n",
       "      <td>1500</td>\n",
       "    </tr>\n",
       "    <tr>\n",
       "      <th>Cataluña</th>\n",
       "      <td>800</td>\n",
       "      <td>1300</td>\n",
       "    </tr>\n",
       "  </tbody>\n",
       "</table>\n",
       "</div>"
      ],
      "text/plain": [
       "          fallecidos  curados\n",
       "Madrid          1000     1500\n",
       "Cataluña         800     1300"
      ]
     },
     "execution_count": 2,
     "metadata": {},
     "output_type": "execute_result"
    }
   ],
   "source": [
    "import numpy as np\n",
    "import pandas as pd\n",
    "\n",
    "filas = ['Madrid', 'Cataluña', 'Andalucía']\n",
    "columnas = ['infectados', 'fallecidos', 'curados']\n",
    "datos = [[20000, 1000, 1500], [15000, 800, 1300], [10000, 300, 600]]\n",
    "tabla = pd.DataFrame(datos, filas, columnas)\n",
    "\n",
    "# selección por condición: Los que no la cumplan, valdrán Null\n",
    "condicion = tabla >1000\n",
    "tabla[condicion]\n",
    "\n",
    "# selección por condición en una columna\n",
    "condicion = tabla['infectados'] > 12000 # se pueden concatenar codiciones con & o | (and, or)\n",
    "print(tabla[condicion]) # eliminaria la fila que no cumpla con la condición de la columna\n",
    "\n",
    "# selección por condicion de varias columnas\n",
    "condicion = tabla['infectados'] > 12000 # se pueden concatenar codiciones con & o | (and, or)\n",
    "tabla[condicion]['fallecidos'] # aplica la condicion a una columna\n",
    "tabla[condicion][ ['fallecidos', 'curados'] ] # aplica la condicion a un grupo de columnas"
   ]
  },
  {
   "cell_type": "markdown",
   "metadata": {},
   "source": [
    "### Dataframes: modificación de filas"
   ]
  },
  {
   "cell_type": "code",
   "execution_count": 8,
   "metadata": {},
   "outputs": [
    {
     "data": {
      "text/html": [
       "<div>\n",
       "<style scoped>\n",
       "    .dataframe tbody tr th:only-of-type {\n",
       "        vertical-align: middle;\n",
       "    }\n",
       "\n",
       "    .dataframe tbody tr th {\n",
       "        vertical-align: top;\n",
       "    }\n",
       "\n",
       "    .dataframe thead th {\n",
       "        text-align: right;\n",
       "    }\n",
       "</style>\n",
       "<table border=\"1\" class=\"dataframe\">\n",
       "  <thead>\n",
       "    <tr style=\"text-align: right;\">\n",
       "      <th></th>\n",
       "      <th>infectados</th>\n",
       "      <th>fallecidos</th>\n",
       "      <th>curados</th>\n",
       "    </tr>\n",
       "    <tr>\n",
       "      <th>fake_news</th>\n",
       "      <th></th>\n",
       "      <th></th>\n",
       "      <th></th>\n",
       "    </tr>\n",
       "  </thead>\n",
       "  <tbody>\n",
       "    <tr>\n",
       "      <th>30</th>\n",
       "      <td>20000</td>\n",
       "      <td>1000</td>\n",
       "      <td>1500</td>\n",
       "    </tr>\n",
       "    <tr>\n",
       "      <th>40</th>\n",
       "      <td>15000</td>\n",
       "      <td>800</td>\n",
       "      <td>1300</td>\n",
       "    </tr>\n",
       "    <tr>\n",
       "      <th>70</th>\n",
       "      <td>10000</td>\n",
       "      <td>300</td>\n",
       "      <td>600</td>\n",
       "    </tr>\n",
       "  </tbody>\n",
       "</table>\n",
       "</div>"
      ],
      "text/plain": [
       "           infectados  fallecidos  curados\n",
       "fake_news                                 \n",
       "30              20000        1000     1500\n",
       "40              15000         800     1300\n",
       "70              10000         300      600"
      ]
     },
     "execution_count": 8,
     "metadata": {},
     "output_type": "execute_result"
    }
   ],
   "source": [
    "import numpy as np\n",
    "import pandas as pd\n",
    "\n",
    "filas = 'Madrid Cataluña Andalucía'.split()\n",
    "columnas = 'infectados fallecidos curados'.split()\n",
    "datos = [[20000, 1000, 1500], [15000, 800, 1300], [10000, 300, 600]]\n",
    "tabla = pd.DataFrame(datos, filas, columnas)\n",
    "\n",
    "# Añadimos una nueva columna\n",
    "tabla['fake_news'] = '30 40 70'.split()\n",
    "\n",
    "# Seleccionamos una columna como índice\n",
    "tabla.set_index('fake_news')"
   ]
  },
  {
   "cell_type": "markdown",
   "metadata": {},
   "source": [
    "## Tratamientos de datos nulos"
   ]
  },
  {
   "cell_type": "code",
   "execution_count": 28,
   "metadata": {},
   "outputs": [
    {
     "name": "stdout",
     "output_type": "stream",
     "text": [
      "\n",
      "    Columna_1  Columna_2  Columna_3\n",
      "0       23.0         67        NaN\n",
      "1       45.0         23       73.0\n",
      "2        NaN         89        NaN\n",
      "\n",
      "    Columna_1  Columna_2  Columna_3\n",
      "1       45.0         23       73.0\n",
      "\n",
      "    Columna_2\n",
      "0         67\n",
      "1         23\n",
      "2         89\n",
      "\n",
      "    Columna_1  Columna_2  Columna_3\n",
      "0       23.0         67      100.0\n",
      "1       45.0         23       73.0\n",
      "2      100.0         89      100.0\n",
      "\n",
      " Columna_1    34.000000\n",
      "Columna_2    59.666667\n",
      "Columna_3    73.000000\n",
      "dtype: float64\n",
      "\n",
      "    Columna_1  Columna_2  Columna_3\n",
      "0       23.0         67       73.0\n",
      "1       45.0         23       73.0\n",
      "2       34.0         89       73.0\n"
     ]
    }
   ],
   "source": [
    "import numpy as np\n",
    "import pandas as pd\n",
    "\n",
    "# creamos una tabla a partir de un diccionario\n",
    "diccionario = {'Columna_1': [23,45,np.nan], 'Columna_2': [67,23,89], 'Columna_3': [np.nan,73,np.nan]}\n",
    "tabla = pd.DataFrame(diccionario)\n",
    "print(\"\\n\",tabla)\n",
    "\n",
    "# vamos a eliminar las filas que contengan valores nulos (solo lo muestra)\n",
    "print(\"\\n\",tabla.dropna())\n",
    "\n",
    "# vamos a eliminar las columnas que contengan valores nulos (solo lo muestra)\n",
    "print(\"\\n\",tabla.dropna(axis=1)) # si quieremos aplicarlo sobre la tabla ponemos el parámetro: inplace=True\n",
    "\n",
    "# ahora vamos a rellenar los valores nulos con un valor\n",
    "print(\"\\n\", tabla.fillna(value=100))\n",
    "\n",
    "# ahora vamos a obtener los valores medios de cada columna\n",
    "print(\"\\n\", tabla.mean())\n",
    "\n",
    "# vamos a rellenar los valores nulos con los valores medios\n",
    "print(\"\\n\", tabla.fillna(value=tabla.mean()))"
   ]
  },
  {
   "cell_type": "markdown",
   "metadata": {},
   "source": [
    "## Agrupación por columnas"
   ]
  },
  {
   "cell_type": "code",
   "execution_count": 10,
   "metadata": {},
   "outputs": [
    {
     "name": "stdout",
     "output_type": "stream",
     "text": [
      "   dias vendedores  ventas\n",
      "0  dia1      Paula       2\n",
      "1  dia1      Maria       5\n",
      "2  dia2     Josefa       5\n",
      "3  dia3     Pepito       8\n",
      "4  dia3     Manolo       3\n",
      "\n",
      "       ventas\n",
      "dias        \n",
      "dia1     3.5\n",
      "dia2     5.0\n",
      "dia3     5.5\n",
      "\n",
      "       ventas\n",
      "dias        \n",
      "dia1       7\n",
      "dia2       5\n",
      "dia3      11\n",
      "\n",
      "      ventas                                          \n",
      "      count mean       std  min   25%  50%   75%  max\n",
      "dias                                                 \n",
      "dia1    2.0  3.5  2.121320  2.0  2.75  3.5  4.25  5.0\n",
      "dia2    1.0  5.0       NaN  5.0  5.00  5.0  5.00  5.0\n",
      "dia3    2.0  5.5  3.535534  3.0  4.25  5.5  6.75  8.0\n"
     ]
    }
   ],
   "source": [
    "import numpy as np\n",
    "import pandas as pd\n",
    "\n",
    "# Creamos un diccionario a partir del cual se creará la tabla\n",
    "diccionario = {'dias':['dia1','dia1','dia2','dia3','dia3'], 'vendedores':['Paula','Maria','Josefa','Pepito','Manolo'], 'ventas':[2,5,5,8,3]}\n",
    "tabla = pd.DataFrame(diccionario)\n",
    "print(tabla)\n",
    "\n",
    "# Operamos con los datos de aquellas filas que se repiten, agrupandolos de esta manera\n",
    "agrupacion = tabla.groupby('dias') \n",
    "\n",
    "print(\"\\n\",agrupacion.mean())     # media de los valores que se han agrupado\n",
    "print(\"\\n\",agrupacion.sum())      # suma de los valores que se han agrupado\n",
    "print(\"\\n\",agrupacion.describe()) # datos estadísticos de los valores que se han agrupado (std: desviación típica )"
   ]
  },
  {
   "cell_type": "markdown",
   "metadata": {},
   "source": [
    "## Combinar dataframes"
   ]
  },
  {
   "cell_type": "code",
   "execution_count": 16,
   "metadata": {},
   "outputs": [
    {
     "name": "stdout",
     "output_type": "stream",
     "text": [
      "    A   B   C\n",
      "0   1   4   7\n",
      "1   2   5   8\n",
      "2   3   6   9\n",
      "0  14  64  27\n",
      "1  45  51  18\n",
      "2  23  64  69\n",
      "   A  B  C   A   B   C\n",
      "0  1  4  7  14  64  27\n",
      "1  2  5  8  45  51  18\n",
      "2  3  6  9  23  64  69\n"
     ]
    }
   ],
   "source": [
    "import numpy as np\n",
    "import pandas as pd\n",
    "\n",
    "diccionario1 = {'A':[1,2,3], 'B':[4,5,6], 'C':[7,8,9]}\n",
    "diccionario2 = {'A':[14,45,23], 'B':[64,51,64], 'C':[27,18,69]}\n",
    "tabla1 = pd.DataFrame(diccionario1)\n",
    "tabla2 = pd.DataFrame(diccionario2)\n",
    "\n",
    "# Vamos a añadir las filas de la tabla 2 a la tabla 1\n",
    "tabla = pd.concat([tabla1, tabla2])\n",
    "print(tabla)\n",
    "\n",
    "# vamos a añadir las columnas de la tabla 2 a la tabla 1\n",
    "tabla = pd.concat([tabla1, tabla2], axis=1)\n",
    "print(tabla)"
   ]
  },
  {
   "cell_type": "markdown",
   "metadata": {},
   "source": [
    "## Merge en Dataframes"
   ]
  },
  {
   "cell_type": "code",
   "execution_count": 18,
   "metadata": {},
   "outputs": [
    {
     "data": {
      "text/html": [
       "<div>\n",
       "<style scoped>\n",
       "    .dataframe tbody tr th:only-of-type {\n",
       "        vertical-align: middle;\n",
       "    }\n",
       "\n",
       "    .dataframe tbody tr th {\n",
       "        vertical-align: top;\n",
       "    }\n",
       "\n",
       "    .dataframe thead th {\n",
       "        text-align: right;\n",
       "    }\n",
       "</style>\n",
       "<table border=\"1\" class=\"dataframe\">\n",
       "  <thead>\n",
       "    <tr style=\"text-align: right;\">\n",
       "      <th></th>\n",
       "      <th>A</th>\n",
       "      <th>B</th>\n",
       "      <th>C</th>\n",
       "      <th>clave</th>\n",
       "      <th>D</th>\n",
       "      <th>E</th>\n",
       "      <th>F</th>\n",
       "    </tr>\n",
       "  </thead>\n",
       "  <tbody>\n",
       "    <tr>\n",
       "      <th>0</th>\n",
       "      <td>1</td>\n",
       "      <td>4</td>\n",
       "      <td>7</td>\n",
       "      <td>c1</td>\n",
       "      <td>14</td>\n",
       "      <td>64</td>\n",
       "      <td>27</td>\n",
       "    </tr>\n",
       "    <tr>\n",
       "      <th>1</th>\n",
       "      <td>2</td>\n",
       "      <td>5</td>\n",
       "      <td>8</td>\n",
       "      <td>c2</td>\n",
       "      <td>45</td>\n",
       "      <td>51</td>\n",
       "      <td>18</td>\n",
       "    </tr>\n",
       "    <tr>\n",
       "      <th>2</th>\n",
       "      <td>3</td>\n",
       "      <td>6</td>\n",
       "      <td>9</td>\n",
       "      <td>c3</td>\n",
       "      <td>23</td>\n",
       "      <td>64</td>\n",
       "      <td>69</td>\n",
       "    </tr>\n",
       "  </tbody>\n",
       "</table>\n",
       "</div>"
      ],
      "text/plain": [
       "   A  B  C clave   D   E   F\n",
       "0  1  4  7    c1  14  64  27\n",
       "1  2  5  8    c2  45  51  18\n",
       "2  3  6  9    c3  23  64  69"
      ]
     },
     "execution_count": 18,
     "metadata": {},
     "output_type": "execute_result"
    }
   ],
   "source": [
    "import numpy as np\n",
    "import pandas as pd\n",
    "\n",
    "diccionario1 = {'A':[1,2,3], 'B':[4,5,6], 'C':[7,8,9], 'clave':['c1','c2','c3']}\n",
    "diccionario2 = {'D':[14,45,23], 'E':[64,51,64], 'F':[27,18,69],'clave':['c1','c2','c3']}\n",
    "\n",
    "tabla1 = pd.DataFrame(diccionario1)\n",
    "tabla2 = pd.DataFrame(diccionario2)\n",
    "\n",
    "# vamos a realizar un merge de la tabla a través de la clave\n",
    "pd.merge(tabla1, tabla2, on='clave')"
   ]
  },
  {
   "cell_type": "markdown",
   "metadata": {},
   "source": [
    "## Join en Dataframes"
   ]
  },
  {
   "cell_type": "code",
   "execution_count": 19,
   "metadata": {},
   "outputs": [
    {
     "data": {
      "text/html": [
       "<div>\n",
       "<style scoped>\n",
       "    .dataframe tbody tr th:only-of-type {\n",
       "        vertical-align: middle;\n",
       "    }\n",
       "\n",
       "    .dataframe tbody tr th {\n",
       "        vertical-align: top;\n",
       "    }\n",
       "\n",
       "    .dataframe thead th {\n",
       "        text-align: right;\n",
       "    }\n",
       "</style>\n",
       "<table border=\"1\" class=\"dataframe\">\n",
       "  <thead>\n",
       "    <tr style=\"text-align: right;\">\n",
       "      <th></th>\n",
       "      <th>A</th>\n",
       "      <th>B</th>\n",
       "      <th>C</th>\n",
       "      <th>D</th>\n",
       "      <th>E</th>\n",
       "      <th>F</th>\n",
       "    </tr>\n",
       "  </thead>\n",
       "  <tbody>\n",
       "    <tr>\n",
       "      <th>i1</th>\n",
       "      <td>1</td>\n",
       "      <td>4</td>\n",
       "      <td>7</td>\n",
       "      <td>14</td>\n",
       "      <td>64</td>\n",
       "      <td>27</td>\n",
       "    </tr>\n",
       "    <tr>\n",
       "      <th>i2</th>\n",
       "      <td>2</td>\n",
       "      <td>5</td>\n",
       "      <td>8</td>\n",
       "      <td>45</td>\n",
       "      <td>51</td>\n",
       "      <td>18</td>\n",
       "    </tr>\n",
       "    <tr>\n",
       "      <th>i3</th>\n",
       "      <td>3</td>\n",
       "      <td>6</td>\n",
       "      <td>9</td>\n",
       "      <td>23</td>\n",
       "      <td>64</td>\n",
       "      <td>69</td>\n",
       "    </tr>\n",
       "  </tbody>\n",
       "</table>\n",
       "</div>"
      ],
      "text/plain": [
       "    A  B  C   D   E   F\n",
       "i1  1  4  7  14  64  27\n",
       "i2  2  5  8  45  51  18\n",
       "i3  3  6  9  23  64  69"
      ]
     },
     "execution_count": 19,
     "metadata": {},
     "output_type": "execute_result"
    }
   ],
   "source": [
    "import numpy as np\n",
    "import pandas as pd\n",
    "\n",
    "diccionario1 = {'A':[1,2,3], 'B':[4,5,6], 'C':[7,8,9]}\n",
    "diccionario2 = {'D':[14,45,23], 'E':[64,51,64], 'F':[27,18,69]}\n",
    "\n",
    "# en este caso vamos a añadir un index a cada tabla\n",
    "tabla1 = pd.DataFrame(diccionario1, index=['i1','i2','i3'])\n",
    "tabla2 = pd.DataFrame(diccionario2, index=['i1','i2','i3'])\n",
    "\n",
    "# junta las tablas por indice\n",
    "tabla1.join(tabla2)"
   ]
  },
  {
   "cell_type": "markdown",
   "metadata": {},
   "source": [
    "## Operaciones con Dataframes "
   ]
  },
  {
   "cell_type": "code",
   "execution_count": 1,
   "metadata": {},
   "outputs": [
    {
     "name": "stdout",
     "output_type": "stream",
     "text": [
      "    A  B   C\n",
      "i1  1  4   7\n",
      "i2  2  5   8\n",
      "i3  3  6   9\n",
      "i4  2  5  10\n",
      "i5  3  2  11\n",
      "i6  4  1  12\n",
      "\n",
      "Elementos no repetidos de la columna A:\n",
      "[1 2 3 4]\n",
      "\n",
      "Numero de valores únicos que hay:\n",
      "4\n",
      "\n",
      "Veces que se repite un valor de la columna A:\n",
      "3    2\n",
      "2    2\n",
      "4    1\n",
      "1    1\n",
      "Name: A, dtype: int64\n",
      "\n",
      "Columna A duplicada por 2:\n",
      "i1    2\n",
      "i2    4\n",
      "i3    6\n",
      "i4    4\n",
      "i5    6\n",
      "i6    8\n",
      "Name: A, dtype: int64\n",
      "\n",
      "Borrar columna B:\n",
      "    A  B\n",
      "i1  1  4\n",
      "i2  2  5\n",
      "i3  3  6\n",
      "i4  2  5\n",
      "i5  3  2\n",
      "i6  4  1\n",
      "\n",
      "Borrar fila i2:\n",
      "    A  B\n",
      "i1  1  4\n",
      "i3  3  6\n",
      "i4  2  5\n",
      "i5  3  2\n",
      "i6  4  1\n",
      "\n",
      "Ordenar los elementos de la tabla atendiendo a la columna B (de menor a mayor):\n",
      "    A  B\n",
      "i6  4  1\n",
      "i5  3  2\n",
      "i1  1  4\n",
      "i4  2  5\n",
      "i3  3  6\n"
     ]
    }
   ],
   "source": [
    "import numpy as np\n",
    "import pandas as pd\n",
    "\n",
    "diccionario = {'A':[1,2,3,2,3,4], 'B':[4,5,6,5,2,1], 'C':[7,8,9,10,11,12]}\n",
    "\n",
    "# en este caso vamos a añadir un index a cada tabla\n",
    "tabla = pd.DataFrame(diccionario, index=['i1','i2','i3','i4','i5','i6'])\n",
    "\n",
    "print(tabla)\n",
    "\n",
    "# vamos a quedarnos solo con los elementos no repetidos de la columna A\n",
    "print(\"\\nElementos no repetidos de la columna A:\")\n",
    "print(tabla['A'].unique())\n",
    "\n",
    "# numero de valores únicos que hay\n",
    "print(\"\\nNumero de valores únicos que hay:\")\n",
    "print(tabla['A'].nunique())\n",
    "\n",
    "# imprimimos cuantas veces se repite un valor\n",
    "print(\"\\nVeces que se repite un valor de la columna A:\")\n",
    "print(tabla['A'].value_counts())\n",
    "\n",
    "# aplicar una funcion a una columna\n",
    "def duplicar(x):\n",
    "    return x*2\n",
    "\n",
    "print(\"\\nColumna A duplicada por 2:\")\n",
    "print(tabla['A'].apply(duplicar)) # esto es equivalente a: tabla['A'].apply(lambda x: x*2)\n",
    "\n",
    "print(\"\\nBorrar columna B:\")\n",
    "tabla.drop('C', axis=1,inplace=True)\n",
    "print(tabla) \n",
    "\n",
    "print(\"\\nBorrar fila i2:\")\n",
    "tabla.drop('i2',inplace=True)\n",
    "print(tabla) \n",
    "\n",
    "print(\"\\nOrdenar los elementos de la tabla atendiendo a la columna B (de menor a mayor):\")\n",
    "print(tabla.sort_values('B'))\n"
   ]
  },
  {
   "cell_type": "markdown",
   "metadata": {},
   "source": [
    "## Leer xlsx: un fichero excel con Pandas"
   ]
  },
  {
   "cell_type": "code",
   "execution_count": null,
   "metadata": {},
   "outputs": [],
   "source": [
    "import pandas as pd\n",
    "\n",
    "# se pueden utilizar los comandos 'pwd' y 'ls' para mostoja1rar rutas y directorios \n",
    "\n",
    "dataframe = pd.read_excel('fichero.xlsx')\n",
    "\n",
    "dataframe['e'] = [1,2,3,4,5] # añadimos una nueva columna\n",
    "\n",
    "dataframe.to_excel('fichero.xlsx', sheet_name='Hoja1') # lo guardamos en un excel"
   ]
  },
  {
   "cell_type": "markdown",
   "metadata": {},
   "source": [
    "## Leer html con Pandas "
   ]
  },
  {
   "cell_type": "code",
   "execution_count": 11,
   "metadata": {},
   "outputs": [
    {
     "name": "stdout",
     "output_type": "stream",
     "text": [
      "Tipo de datos obtenidos de la url:  <class 'list'>\n"
     ]
    },
    {
     "data": {
      "text/html": [
       "<div>\n",
       "<style scoped>\n",
       "    .dataframe tbody tr th:only-of-type {\n",
       "        vertical-align: middle;\n",
       "    }\n",
       "\n",
       "    .dataframe tbody tr th {\n",
       "        vertical-align: top;\n",
       "    }\n",
       "\n",
       "    .dataframe thead tr th {\n",
       "        text-align: left;\n",
       "    }\n",
       "</style>\n",
       "<table border=\"1\" class=\"dataframe\">\n",
       "  <thead>\n",
       "    <tr>\n",
       "      <th></th>\n",
       "      <th>País, Estado o territorio</th>\n",
       "      <th colspan=\"2\" halign=\"left\">Casos</th>\n",
       "      <th colspan=\"3\" halign=\"left\">Fallecidos</th>\n",
       "      <th colspan=\"2\" halign=\"left\">Recuperados</th>\n",
       "      <th>Ref.</th>\n",
       "    </tr>\n",
       "    <tr>\n",
       "      <th></th>\n",
       "      <th>País, Estado o territorio</th>\n",
       "      <th>Totales</th>\n",
       "      <th>CxMhab.</th>\n",
       "      <th>Totales</th>\n",
       "      <th>%</th>\n",
       "      <th>FxMhab.</th>\n",
       "      <th>Totales</th>\n",
       "      <th>%</th>\n",
       "      <th>Ref.</th>\n",
       "    </tr>\n",
       "    <tr>\n",
       "      <th></th>\n",
       "      <th>202 territorios</th>\n",
       "      <th>752 747</th>\n",
       "      <th>n/a</th>\n",
       "      <th>36 226</th>\n",
       "      <th>4.81 %</th>\n",
       "      <th>n/a</th>\n",
       "      <th>158 705</th>\n",
       "      <th>21.08 %</th>\n",
       "      <th>Ref.</th>\n",
       "    </tr>\n",
       "  </thead>\n",
       "  <tbody>\n",
       "    <tr>\n",
       "      <th>0</th>\n",
       "      <td>Estados Unidos(1)</td>\n",
       "      <td>145 131</td>\n",
       "      <td>438.94</td>\n",
       "      <td>2608</td>\n",
       "      <td>1.8 %</td>\n",
       "      <td>7.55</td>\n",
       "      <td>4767</td>\n",
       "      <td>3.28 %</td>\n",
       "      <td>NaN</td>\n",
       "    </tr>\n",
       "    <tr>\n",
       "      <th>1</th>\n",
       "      <td>Italia</td>\n",
       "      <td>101 739</td>\n",
       "      <td>1693.11</td>\n",
       "      <td>11 591</td>\n",
       "      <td>11.39 %</td>\n",
       "      <td>192.89</td>\n",
       "      <td>14 620</td>\n",
       "      <td>14.37 %</td>\n",
       "      <td>[151]​</td>\n",
       "    </tr>\n",
       "    <tr>\n",
       "      <th>2</th>\n",
       "      <td>España</td>\n",
       "      <td>85 195</td>\n",
       "      <td>1805.36</td>\n",
       "      <td>7340</td>\n",
       "      <td>9.16 %</td>\n",
       "      <td>155.54</td>\n",
       "      <td>16 780</td>\n",
       "      <td>20.95 %</td>\n",
       "      <td>[152]​</td>\n",
       "    </tr>\n",
       "    <tr>\n",
       "      <th>3</th>\n",
       "      <td>China</td>\n",
       "      <td>81 470</td>\n",
       "      <td>57.99</td>\n",
       "      <td>3304</td>\n",
       "      <td>4.06 %</td>\n",
       "      <td>2.35</td>\n",
       "      <td>75 770</td>\n",
       "      <td>93 %</td>\n",
       "      <td>NaN</td>\n",
       "    </tr>\n",
       "    <tr>\n",
       "      <th>4</th>\n",
       "      <td>Alemania</td>\n",
       "      <td>63 929</td>\n",
       "      <td>768.01</td>\n",
       "      <td>560</td>\n",
       "      <td>0.9 %</td>\n",
       "      <td>6.73</td>\n",
       "      <td>9211</td>\n",
       "      <td>14.41 %</td>\n",
       "      <td>[153]​</td>\n",
       "    </tr>\n",
       "    <tr>\n",
       "      <th>5</th>\n",
       "      <td>Irán</td>\n",
       "      <td>41 495</td>\n",
       "      <td>497.72</td>\n",
       "      <td>2757</td>\n",
       "      <td>6.64 %</td>\n",
       "      <td>33.07</td>\n",
       "      <td>13 911</td>\n",
       "      <td>33.52 %</td>\n",
       "      <td>NaN</td>\n",
       "    </tr>\n",
       "    <tr>\n",
       "      <th>6</th>\n",
       "      <td>Francia</td>\n",
       "      <td>40 174</td>\n",
       "      <td>619.2</td>\n",
       "      <td>2606</td>\n",
       "      <td>6.49 %</td>\n",
       "      <td>40.17</td>\n",
       "      <td>7202</td>\n",
       "      <td>17.93 %</td>\n",
       "      <td>[154]​</td>\n",
       "    </tr>\n",
       "    <tr>\n",
       "      <th>7</th>\n",
       "      <td>Reino Unido</td>\n",
       "      <td>22 141</td>\n",
       "      <td>330.31</td>\n",
       "      <td>1408</td>\n",
       "      <td>6.36 %</td>\n",
       "      <td>21.01</td>\n",
       "      <td>140</td>\n",
       "      <td>0.63 %</td>\n",
       "      <td>[155]​</td>\n",
       "    </tr>\n",
       "    <tr>\n",
       "      <th>8</th>\n",
       "      <td>Suiza</td>\n",
       "      <td>15 526</td>\n",
       "      <td>1805.35</td>\n",
       "      <td>333</td>\n",
       "      <td>2.14 %</td>\n",
       "      <td>38.72</td>\n",
       "      <td>1823</td>\n",
       "      <td>12.1 %</td>\n",
       "      <td>NaN</td>\n",
       "    </tr>\n",
       "    <tr>\n",
       "      <th>9</th>\n",
       "      <td>Bélgica</td>\n",
       "      <td>11 899</td>\n",
       "      <td>1032.9</td>\n",
       "      <td>513</td>\n",
       "      <td>4.31 %</td>\n",
       "      <td>44.53</td>\n",
       "      <td>1359</td>\n",
       "      <td>11.42 %</td>\n",
       "      <td>NaN</td>\n",
       "    </tr>\n",
       "  </tbody>\n",
       "</table>\n",
       "</div>"
      ],
      "text/plain": [
       "  País, Estado o territorio    Casos          Fallecidos                   \\\n",
       "  País, Estado o territorio  Totales  CxMhab.    Totales        % FxMhab.   \n",
       "            202 territorios  752 747      n/a     36 226   4.81 %     n/a   \n",
       "0         Estados Unidos(1)  145 131   438.94       2608    1.8 %    7.55   \n",
       "1                    Italia  101 739  1693.11     11 591  11.39 %  192.89   \n",
       "2                    España   85 195  1805.36       7340   9.16 %  155.54   \n",
       "3                     China   81 470    57.99       3304   4.06 %    2.35   \n",
       "4                  Alemania   63 929   768.01        560    0.9 %    6.73   \n",
       "5                      Irán   41 495   497.72       2757   6.64 %   33.07   \n",
       "6                   Francia   40 174    619.2       2606   6.49 %   40.17   \n",
       "7               Reino Unido   22 141   330.31       1408   6.36 %   21.01   \n",
       "8                     Suiza   15 526  1805.35        333   2.14 %   38.72   \n",
       "9                   Bélgica   11 899   1032.9        513   4.31 %   44.53   \n",
       "\n",
       "  Recuperados             Ref.  \n",
       "      Totales        %    Ref.  \n",
       "      158 705  21.08 %    Ref.  \n",
       "0        4767   3.28 %     NaN  \n",
       "1      14 620  14.37 %  [151]​  \n",
       "2      16 780  20.95 %  [152]​  \n",
       "3      75 770     93 %     NaN  \n",
       "4        9211  14.41 %  [153]​  \n",
       "5      13 911  33.52 %     NaN  \n",
       "6        7202  17.93 %  [154]​  \n",
       "7         140   0.63 %  [155]​  \n",
       "8        1823   12.1 %     NaN  \n",
       "9        1359  11.42 %     NaN  "
      ]
     },
     "execution_count": 11,
     "metadata": {},
     "output_type": "execute_result"
    }
   ],
   "source": [
    "import pandas as pd\n",
    "\n",
    "url = 'https://es.wikipedia.org/wiki/Pandemia_de_enfermedad_por_coronavirus_de_2019-2020'\n",
    "datos = pd.read_html(url)\n",
    "print('Tipo de datos obtenidos de la url: ',type(datos))\n",
    "paises_afectados = datos[5] # la tabla 5 es sobre los paises afectados\n",
    "paises_afectados.head(10)   # cogemos los 10 primeros paises "
   ]
  },
  {
   "cell_type": "markdown",
   "metadata": {},
   "source": [
    "## Grabar DataFrame es una tabla SQL"
   ]
  },
  {
   "cell_type": "markdown",
   "metadata": {},
   "source": [
    "### Instalación de los paquetes necesarios:\n",
    "Vamos a cargar un motor de SQL en memoria y para ello necesitaremos instalar la librerías siguientes:\n",
    "\n",
    "\n",
    "* Con Anaconda:\n",
    "```bash\n",
    "conda install sqlalchemy\n",
    "```\n",
    "* Sin Anaconda:\n",
    "```bash\n",
    "pip install sqlalchemy\n",
    "```"
   ]
  },
  {
   "cell_type": "code",
   "execution_count": 17,
   "metadata": {},
   "outputs": [
    {
     "name": "stdout",
     "output_type": "stream",
     "text": [
      "   A  B  C\n",
      "0  1  4  7\n",
      "1  2  5  8\n",
      "2  3  6  9\n"
     ]
    },
    {
     "data": {
      "text/html": [
       "<div>\n",
       "<style scoped>\n",
       "    .dataframe tbody tr th:only-of-type {\n",
       "        vertical-align: middle;\n",
       "    }\n",
       "\n",
       "    .dataframe tbody tr th {\n",
       "        vertical-align: top;\n",
       "    }\n",
       "\n",
       "    .dataframe thead th {\n",
       "        text-align: right;\n",
       "    }\n",
       "</style>\n",
       "<table border=\"1\" class=\"dataframe\">\n",
       "  <thead>\n",
       "    <tr style=\"text-align: right;\">\n",
       "      <th></th>\n",
       "      <th>A</th>\n",
       "      <th>B</th>\n",
       "      <th>C</th>\n",
       "    </tr>\n",
       "  </thead>\n",
       "  <tbody>\n",
       "    <tr>\n",
       "      <th>0</th>\n",
       "      <td>1</td>\n",
       "      <td>4</td>\n",
       "      <td>7</td>\n",
       "    </tr>\n",
       "    <tr>\n",
       "      <th>1</th>\n",
       "      <td>2</td>\n",
       "      <td>5</td>\n",
       "      <td>8</td>\n",
       "    </tr>\n",
       "    <tr>\n",
       "      <th>2</th>\n",
       "      <td>3</td>\n",
       "      <td>6</td>\n",
       "      <td>9</td>\n",
       "    </tr>\n",
       "  </tbody>\n",
       "</table>\n",
       "</div>"
      ],
      "text/plain": [
       "   A  B  C\n",
       "0  1  4  7\n",
       "1  2  5  8\n",
       "2  3  6  9"
      ]
     },
     "execution_count": 17,
     "metadata": {},
     "output_type": "execute_result"
    }
   ],
   "source": [
    "import pandas as pd\n",
    "from sqlalchemy import create_engine\n",
    "\n",
    "\n",
    "diccionario = {'A':[1,2,3], 'B':[4,5,6], 'C':[7,8,9]}\n",
    "dataframe = pd.DataFrame(diccionario)\n",
    "\n",
    "print(dataframe)\n",
    "\n",
    "# cargamos en memoria un motor de sql\n",
    "engine = create_engine('sqlite:///:memory:')\n",
    "\n",
    "dataframe.to_sql('tabla',engine,index=False) # decimos que el index no lo pase\n",
    "\n",
    "datos_leidos_bd = pd.read_sql('tabla', con=engine) # utilizamos una conexion llamado engine\n",
    "\n",
    "datos_leidos_bd"
   ]
  },
  {
   "cell_type": "markdown",
   "metadata": {},
   "source": [
    "## Gráficos con Pandas "
   ]
  },
  {
   "cell_type": "code",
   "execution_count": 19,
   "metadata": {},
   "outputs": [
    {
     "name": "stdout",
     "output_type": "stream",
     "text": [
      "    a  b  c  d\n",
      "0   1  1  1  4\n",
      "1   3  0  1  0\n",
      "2   1  1  1  1\n",
      "3   3  1  3  0\n",
      "4   0  3  0  1\n",
      "5   2  4  4  1\n",
      "6   2  1  1  3\n",
      "7   2  3  3  1\n",
      "8   0  1  4  1\n",
      "9   1  0  1  3\n",
      "10  4  0  0  1\n",
      "11  4  4  1  1\n",
      "12  3  3  0  3\n",
      "13  2  1  3  4\n",
      "14  1  1  3  4\n",
      "15  4  0  0  1\n",
      "16  0  3  3  2\n",
      "17  2  0  4  1\n",
      "18  2  3  1  2\n",
      "19  3  1  1  3\n",
      "AxesSubplot(0.125,0.125;0.775x0.755)\n",
      "AxesSubplot(0.125,0.125;0.775x0.755)\n",
      "AxesSubplot(0.125,0.125;0.775x0.755)\n"
     ]
    },
    {
     "data": {
      "text/plain": [
       "<matplotlib.axes._subplots.AxesSubplot at 0x7fb7b20e92d0>"
      ]
     },
     "execution_count": 19,
     "metadata": {},
     "output_type": "execute_result"
    },
    {
     "data": {
      "image/png": "[encoded data removed]",
      "text/plain": [
       "<Figure size 432x288 with 1 Axes>"
      ]
     },
     "metadata": {
      "needs_background": "light"
     },
     "output_type": "display_data"
    },
    {
     "data": {
      "image/png": "[encoded data removed]",
      "text/plain": [
       "<Figure size 432x288 with 1 Axes>"
      ]
     },
     "metadata": {
      "needs_background": "light"
     },
     "output_type": "display_data"
    },
    {
     "data": {
      "image/png": "[encoded data removed]",
      "text/plain": [
       "<Figure size 432x288 with 1 Axes>"
      ]
     },
     "metadata": {
      "needs_background": "light"
     },
     "output_type": "display_data"
    },
    {
     "data": {
      "image/png": "[encoded data removed]",
      "text/plain": [
       "<Figure size 432x288 with 2 Axes>"
      ]
     },
     "metadata": {
      "needs_background": "light"
     },
     "output_type": "display_data"
    }
   ],
   "source": [
    "import numpy as np\n",
    "import pandas as pd\n",
    "\n",
    "# creamos una matriz de 2x4 con numeros aleatorios de 0 a 5\n",
    "matriz = np.random.randint(5, size=(20,4)) \n",
    "dataframe = pd.DataFrame(matriz, columns=['a','b','c','d']) # agregamos el nombre de las columnas que compondrán la tabla\n",
    "print(dataframe)\n",
    "\n",
    "# creamos un histograma\n",
    "print(dataframe['b'].hist())\n",
    "\n",
    "# creamos una gráfica con los valores de las columnas\n",
    "print(dataframe.plot.area(alpha=0.3)) # alpha = valor de transparencia\n",
    "\n",
    "# gráfico de barras\n",
    "print(dataframe.plot.bar()) # stacked=True si queremos acumular valores en las barras.\n",
    "\n",
    "# grafico tipo scatter\n",
    "dataframe.plot.scatter(x='a',y='b',c='c',cmap='coolwarm') # identificamos las columnas según la escala de grises\n",
    "# 'coolwarm' sería una paleta de colores distinta (más cálida)\n",
    "\n"
   ]
  },
  {
   "cell_type": "markdown",
   "metadata": {},
   "source": [
    "## Ejercicio 1: "
   ]
  },
  {
   "cell_type": "code",
   "execution_count": 34,
   "metadata": {},
   "outputs": [
    {
     "name": "stdout",
     "output_type": "stream",
     "text": [
      "matemáticas    9\n",
      "fisica         9\n",
      "historia       8\n",
      "dtype: int64\n",
      "La nota de física que has sacado es  9\n"
     ]
    }
   ],
   "source": [
    "import numpy as mp\n",
    "import pandas as pd\n",
    "\n",
    "asignaturas = ['matemáticas', 'fisica', 'historia']\n",
    "notas = [9,9,8]\n",
    "serie = pd.Series(index=asignaturas, data=notas)\n",
    "print(serie)\n",
    "nota_fisica = serie['fisica']\n",
    "print('La nota de física que has sacado es ',nota_fisica)"
   ]
  },
  {
   "cell_type": "markdown",
   "metadata": {},
   "source": [
    "## Ejercicio 2: "
   ]
  },
  {
   "cell_type": "code",
   "execution_count": 56,
   "metadata": {},
   "outputs": [
    {
     "name": "stdout",
     "output_type": "stream",
     "text": [
      "                oficina_1  oficina_2  oficina_3\n",
      "ventas_enero          457        442        288\n",
      "ventas_febrero        492        313        413\n",
      "ventas_marzo          357        488        188\n",
      "\n",
      "Las ventas de enero para la oficina_1 son:  457\n"
     ]
    }
   ],
   "source": [
    "import numpy as mp\n",
    "import pandas as pd\n",
    "\n",
    "filas = ['ventas_enero','ventas_febrero','ventas_marzo']\n",
    "columnas =['oficina_1','oficina_2','oficina_3']\n",
    "\n",
    "\n",
    "ventas_enero = np.random.randint(100,500,3)\n",
    "ventas_febrero = np.random.randint(100,500,3)\n",
    "ventas_marzo = np.random.randint(100,500,3)\n",
    "\n",
    "ventas = [ventas_enero,ventas_febrero,ventas_marzo]\n",
    "\n",
    "dataframe = pd.DataFrame(index=filas, columns=columnas, data=ventas)\n",
    "print(dataframe)\n",
    "\n",
    "print(\"\\nLas ventas de enero para la oficina_1 son: \",dataframe['oficina_1']['ventas_enero'])\n",
    "# tambien se puede poner como : dataframe.loc['ventas_enero']['oficina_1']"
   ]
  },
  {
   "cell_type": "code",
   "execution_count": null,
   "metadata": {},
   "outputs": [],
   "source": []
  }
 ],
 "metadata": {
  "kernelspec": {
   "display_name": "Python 3",
   "language": "python",
   "name": "python3"
  },
  "language_info": {
   "codemirror_mode": {
    "name": "ipython",
    "version": 3
   },
   "file_extension": ".py",
   "mimetype": "text/x-python",
   "name": "python",
   "nbconvert_exporter": "python",
   "pygments_lexer": "ipython3",
   "version": "3.7.6"
  }
 },
 "nbformat": 4,
 "nbformat_minor": 4
}
