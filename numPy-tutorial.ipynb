{
 "cells": [
  {
   "cell_type": "markdown",
   "metadata": {},
   "source": [
    "# NumPy\n",
    "\n",
    "Extensión de Python para trabajar con vectores y matrices"
   ]
  },
  {
   "cell_type": "markdown",
   "metadata": {},
   "source": [
    "## Instalación en Jupyter\n",
    "\n",
    "* Con anaconda:\n",
    "```bash\n",
    "conda install numpy\n",
    "```\n",
    "* Sin anaconda\n",
    "```bash\n",
    "pip install numpy\n",
    "```"
   ]
  },
  {
   "cell_type": "markdown",
   "metadata": {},
   "source": [
    "## Arrays "
   ]
  },
  {
   "cell_type": "code",
   "execution_count": 14,
   "metadata": {},
   "outputs": [],
   "source": [
    "import numpy as np # a partir de ahora utilizaremos np (seudonimo) en vez de numpy "
   ]
  },
  {
   "cell_type": "code",
   "execution_count": 28,
   "metadata": {},
   "outputs": [
    {
     "name": "stdout",
     "output_type": "stream",
     "text": [
      "array unidimensional:\n",
      "[1 2 3 4]\n",
      "array bidimensional:\n",
      "[[1 2 3]\n",
      " [4 5 6]\n",
      " [7 8 9]]\n",
      "una fila:\n",
      "[1 2 3]\n",
      "un elemento de la fila 1 y clumna 1:\n",
      "1\n",
      "columna 0\n",
      "[1 4 7]\n",
      "columna 0 y 1\n",
      "[[1 2]\n",
      " [4 5]\n",
      " [7 8]]\n"
     ]
    }
   ],
   "source": [
    "print(\"array unidimensional:\")\n",
    "array_unidimensional = np.array([1,2,3,4])\n",
    "print(array_unidimensional)\n",
    "print(\"array bidimensional:\")\n",
    "array_bidimensional = np.array([[1,2,3],[4,5,6],[7,8,9]])\n",
    "print(array_bidimensional)\n",
    "print(\"una fila:\")\n",
    "print(array_bidimensional[0])\n",
    "print(\"un elemento de la fila 1 y clumna 1:\")\n",
    "print(array_bidimensional[0][0])\n",
    "print(\"columna 0\")\n",
    "print(array_bidimensional[:,0])\n",
    "print(\"columna 0 y 1\")\n",
    "print(array_bidimensional[:,:2])"
   ]
  },
  {
   "cell_type": "code",
   "execution_count": null,
   "metadata": {},
   "outputs": [],
   "source": [
    "lista = [1,2,3,4,5,6]"
   ]
  },
  {
   "cell_type": "code",
   "execution_count": 3,
   "metadata": {},
   "outputs": [],
   "source": [
    "# convertimos la lista en un array\n",
    "array = np.array(lista)\n",
    "print(array)"
   ]
  },
  {
   "cell_type": "code",
   "execution_count": 7,
   "metadata": {},
   "outputs": [
    {
     "name": "stdout",
     "output_type": "stream",
     "text": [
      "[[1 2 3]\n",
      " [4 5 6]\n",
      " [7 8 9]]\n"
     ]
    }
   ],
   "source": [
    " # Creamos una lista doble, es decir, una lista de 3 elementos que contiene a su vez 3 listas\n",
    "lista_array = [[1,2,3],[4,5,6],[7,8,9]]\n",
    "# lo convertimos en un array de 2 dimensiones (matriz)\n",
    "array_bidimensional = np.array(lista_array)\n",
    "print(array_bidimensional)"
   ]
  },
  {
   "cell_type": "markdown",
   "metadata": {},
   "source": [
    "## Funciones: arange, zeros, ones, linspace, eye, reshape"
   ]
  },
  {
   "cell_type": "code",
   "execution_count": 34,
   "metadata": {},
   "outputs": [
    {
     "name": "stdout",
     "output_type": "stream",
     "text": [
      "Ejemplo de arrange:\n",
      "[ 1  2  3  4  5  6  7  8  9 10]\n",
      "[1 3 5 7 9]\n",
      "Ejemplo de zeros:\n",
      "[[0. 0. 0. 0.]\n",
      " [0. 0. 0. 0.]\n",
      " [0. 0. 0. 0.]]\n",
      "Ejemplo de unos:\n",
      "[[1. 1. 1. 1.]\n",
      " [1. 1. 1. 1.]\n",
      " [1. 1. 1. 1.]]\n",
      "Ejemplo de linspace:\n",
      "[ 1.          1.47368421  1.94736842  2.42105263  2.89473684  3.36842105\n",
      "  3.84210526  4.31578947  4.78947368  5.26315789  5.73684211  6.21052632\n",
      "  6.68421053  7.15789474  7.63157895  8.10526316  8.57894737  9.05263158\n",
      "  9.52631579 10.        ]\n",
      "Ejemplo de matriz unitaria:\n",
      "[[1. 0. 0. 0. 0.]\n",
      " [0. 1. 0. 0. 0.]\n",
      " [0. 0. 1. 0. 0.]\n",
      " [0. 0. 0. 1. 0.]\n",
      " [0. 0. 0. 0. 1.]]\n",
      "Ejemplo de vector convertido en matriz 3x3:\n",
      "[[1 2 3]\n",
      " [4 5 6]\n",
      " [7 8 9]]\n"
     ]
    }
   ],
   "source": [
    "import numpy as np\n",
    "\n",
    "# arange\n",
    "array_1= np.arange(1,11)  # arrange tiene los parámetros (comienzo, final-1, paso)\n",
    "array_2= np.arange(1,11,2) # tercer parámetro es el step (paso), generando en este caso un array de 2 en 2\n",
    "print(\"Ejemplo de arrange:\")\n",
    "print(array_1)\n",
    "print(array_2)\n",
    "\n",
    "# zeros\n",
    "array_zeros = np.zeros((3,4)) # crea una matriz de ceros de 3x4 \n",
    "print(\"Ejemplo de zeros:\")\n",
    "print(array_zeros)\n",
    "\n",
    "# unos\n",
    "array_unos = np.ones((3,4))\n",
    "print(\"Ejemplo de unos:\")\n",
    "print(array_unos)\n",
    "\n",
    "# linspace\n",
    "array_line = np.linspace(1,10,20) # crea un vector de 20 elementos con los valores del 1 al 10 (interpola)\n",
    "print(\"Ejemplo de linspace:\")\n",
    "print(array_line)\n",
    "\n",
    "# eye \n",
    "array_eye = np.eye(5) # crea una matriz cuadrada de 'n' filas y columnas \n",
    "print(\"Ejemplo de matriz unitaria:\")\n",
    "print(array_eye)\n",
    "\n",
    "# reshape\n",
    "# Si queremos convertir un vector de 9 elementos en matriz de 3 dimensiones\n",
    "vector = np.arange(1,10)\n",
    "print(\"Ejemplo de vector convertido en matriz 3x3:\")\n",
    "matriz = vector.reshape(3,3) # con esto podemos cambiar el formato de las matrices en número de filas y número de columnas\n",
    "print(matriz)"
   ]
  },
  {
   "cell_type": "markdown",
   "metadata": {},
   "source": [
    "## Números aleatorios: rand , randn, randint "
   ]
  },
  {
   "cell_type": "code",
   "execution_count": 40,
   "metadata": {},
   "outputs": [
    {
     "name": "stdout",
     "output_type": "stream",
     "text": [
      "\n",
      "- vector de 5 números aleatorios con distribución uniforme:\n",
      "[0.86710528 0.12624962 0.05296099 0.80954369 0.74344356]\n",
      "\n",
      "- array de 2x3 elementos:\n",
      "[[0.18310122 0.7745543  0.24964119]\n",
      " [0.26729985 0.71147264 0.65160231]]\n",
      "\n",
      "- vector de 5 números aleatorios con distribución normal:\n",
      "[0.33683045 0.25501614 0.08789847 0.55257108 0.89609282]\n",
      "\n",
      "- array de 2x3 elementos aleatorios con distribución normal:\n",
      "[[-0.29494491 -2.26176759  0.3063986 ]\n",
      " [-0.55793458  1.73302787 -0.29226914]]\n",
      "\n",
      "- número aleatorio entero entre 1 y 10:\n",
      "2\n",
      "\n",
      "- 5 números aleatorios enteros entre 1 y 10:\n",
      "[3 3 5 8 9]\n"
     ]
    }
   ],
   "source": [
    "import numpy as np\n",
    "\n",
    "# Imprimir 5 numeros aleatorios del 0 al 1. Es una distribución uniforme de números positivos.\n",
    "print(\"\\n- vector de 5 números aleatorios con distribución uniforme:\")\n",
    "print(np.random.rand(5))\n",
    "print(\"\\n- array de 2x3 elementos:\")\n",
    "print(np.random.rand(2,3))\n",
    "\n",
    "# Distribución normal con valores tanto positivos como negativos\n",
    "print(\"\\n- vector de 5 números aleatorios con distribución normal:\")\n",
    "print(np.random.randn(5))\n",
    "print(\"\\n- array de 2x3 elementos aleatorios con distribución normal:\")\n",
    "print(np.random.randn(2,3))\n",
    "\n",
    "# Numeros aleatorios enteros\n",
    "print(\"\\n- número aleatorio entero entre 1 y 10:\")\n",
    "print(np.random.randint(1,11))\n",
    "print(\"\\n- 5 números aleatorios enteros entre 1 y 10:\")\n",
    "print(np.random.randint(1,11,5))\n",
    "\n"
   ]
  },
  {
   "cell_type": "markdown",
   "metadata": {},
   "source": [
    "## Números máximos y mínimos "
   ]
  },
  {
   "cell_type": "code",
   "execution_count": 10,
   "metadata": {},
   "outputs": [
    {
     "name": "stdout",
     "output_type": "stream",
     "text": [
      "[-15 -34  16 -54 -80  98  46  90 -75   1 -74 -78  82 -46  26  27 -39 -35\n",
      "  70   1   6 -78  72  82  33  71   4 -53 -66  15  81  70 -66 -38  47 -79\n",
      "  61 -19  75   2 -93 -12  82  64  86  51 -24   2 -72  38]\n",
      "\n",
      " valor maximo:  98  en posicion ( 6 ) y valor minimo: -93 en posicion( 41 )\n"
     ]
    }
   ],
   "source": [
    "# obtenemos un array de numeros aleatorios\n",
    "import numpy as np\n",
    "array_random = np.random.randint(-100,100,50)\n",
    "max_value = array_random.max()\n",
    "min_value = array_random.min()\n",
    "max_position = array_random.argmax() + 1\n",
    "min_position = array_random.argmin() + 1\n",
    "print(array_random)\n",
    "print(\"\\n valor maximo: \",max_value,\" en posicion (\",max_position,\") y valor minimo:\",min_value,\"en posicion(\",min_position,\")\")\n"
   ]
  },
  {
   "cell_type": "markdown",
   "metadata": {},
   "source": [
    "## Obtener partes de un array y de una matriz"
   ]
  },
  {
   "cell_type": "code",
   "execution_count": 17,
   "metadata": {},
   "outputs": [
    {
     "name": "stdout",
     "output_type": "stream",
     "text": [
      "[1 2 3 4 5 6 7 8 9]\n",
      "[4 5 6]\n",
      "[4 5 6 7 8 9]\n",
      "[1 2 3]\n",
      "[1 2 3 4 5 6 7 8 9]\n",
      "Matriz resultante:\n",
      "[[1 2 3]\n",
      " [4 5 6]\n",
      " [7 8 9]]\n",
      "Dos primeras filas:\n",
      "[[1 2 3]\n",
      " [4 5 6]]\n",
      "Dos últimas filas:\n",
      "[[4 5 6]\n",
      " [7 8 9]]\n",
      "Columna 2:\n",
      "[2 5 8]\n",
      "Dos últimas columnas:\n",
      "[[2 3]\n",
      " [5 6]\n",
      " [8 9]]\n",
      "Ultima columna:\n",
      "[3 6 9]\n"
     ]
    }
   ],
   "source": [
    "import numpy as np\n",
    "\n",
    "# Creamos un vector\n",
    "array = np.arange(1,10)\n",
    "\n",
    "# Como obtener diferentes partes de un array\n",
    "print(array)\n",
    "print(array[3:6])\n",
    "print(array[3:])\n",
    "print(array[:3])\n",
    "\n",
    "# Copiar un array\n",
    "array_cp = array.copy()\n",
    "print(array_cp)\n",
    "\n",
    "# transformamos el array unidimensional en bidimensional (matriz)\n",
    "matriz = array.reshape(3,3)\n",
    "print(\"Matriz resultante:\")\n",
    "print(matriz)\n",
    "print(\"Dos primeras filas:\")\n",
    "print(matriz[:2])\n",
    "print(\"Dos últimas filas:\")\n",
    "print(matriz[1:])\n",
    "print(\"Columna 2:\")\n",
    "print(matriz[:,1])\n",
    "print(\"Dos últimas columnas:\")\n",
    "print(matriz[:,1:])\n",
    "print(\"Ultima columna:\")\n",
    "print(matriz[:,-1])"
   ]
  },
  {
   "cell_type": "markdown",
   "metadata": {},
   "source": [
    "## Operaciones con arrays "
   ]
  },
  {
   "cell_type": "code",
   "execution_count": 34,
   "metadata": {},
   "outputs": [],
   "source": [
    "array1 = np.array([0,1,2])\n",
    "array2 = np.array([3,4,5])"
   ]
  },
  {
   "cell_type": "code",
   "execution_count": 37,
   "metadata": {},
   "outputs": [
    {
     "name": "stdout",
     "output_type": "stream",
     "text": [
      "[10 11 12]\n",
      "[0 0 0]\n",
      "[ 0 10 20]\n",
      "[3 5 7]\n",
      "[ 0  4 10]\n"
     ]
    }
   ],
   "source": [
    "print(array1 + 10)\n",
    "print(array1 - array1)\n",
    "print(array1 * 10)\n",
    "print(array1 + array2)\n",
    "print(array1 * array2)"
   ]
  },
  {
   "cell_type": "markdown",
   "metadata": {},
   "source": [
    "## Ejercicio 1: "
   ]
  },
  {
   "cell_type": "code",
   "execution_count": 24,
   "metadata": {},
   "outputs": [
    {
     "name": "stdout",
     "output_type": "stream",
     "text": [
      "[[10 11 12 13 14 15 16 17 18 19]\n",
      " [20 21 22 23 24 25 26 27 28 29]\n",
      " [30 31 32 33 34 35 36 37 38 39]]\n",
      "\n",
      "Elemento de la esquina superior derecha de la matriz:\n",
      "19\n"
     ]
    }
   ],
   "source": [
    "import numpy as np\n",
    "\n",
    "# valor minimo de 10 y maximo de 39\n",
    "array = np.arange(10,40)\n",
    "matriz = array.reshape(3,10)\n",
    "print(matriz)\n",
    "print(\"\\nElemento de la esquina superior derecha de la matriz:\")\n",
    "print(matriz[0,-1])"
   ]
  },
  {
   "cell_type": "markdown",
   "metadata": {},
   "source": [
    "## Ejercicio 2: "
   ]
  },
  {
   "cell_type": "code",
   "execution_count": 29,
   "metadata": {},
   "outputs": [
    {
     "name": "stdout",
     "output_type": "stream",
     "text": [
      "[[ 3 84  2]\n",
      " [33 29 43]\n",
      " [36 16 92]]\n",
      "\n",
      "Elemento de la esquina inferior derecha:\n",
      "92\n"
     ]
    }
   ],
   "source": [
    "import numpy as mp\n",
    "\n",
    "# array de 9 valores aleatorios de 0 a 100\n",
    "array = np.random.randint(0,100,9)\n",
    "matriz = array.reshape(3,3)\n",
    "print(matriz)\n",
    "print(\"\\nElemento de la esquina inferior derecha:\")\n",
    "print(matriz[-1,-1])"
   ]
  }
 ],
 "metadata": {
  "kernelspec": {
   "display_name": "Python 3",
   "language": "python",
   "name": "python3"
  },
  "language_info": {
   "codemirror_mode": {
    "name": "ipython",
    "version": 3
   },
   "file_extension": ".py",
   "mimetype": "text/x-python",
   "name": "python",
   "nbconvert_exporter": "python",
   "pygments_lexer": "ipython3",
   "version": "3.7.6"
  }
 },
 "nbformat": 4,
 "nbformat_minor": 4
}
